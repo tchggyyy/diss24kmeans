{
 "cells": [
  {
   "cell_type": "code",
   "execution_count": 1,
   "id": "ce9be1da",
   "metadata": {},
   "outputs": [
    {
     "name": "stdout",
     "output_type": "stream",
     "text": [
      "['1INCHUSDT.csv', '1newalldata.csv', 'AAVEUSDT.csv', 'ADADOWNUSDT.csv', 'ADAUPUSDT.csv', 'ADAUSDT.csv', 'AIONUSDT.csv', 'AKROUSDT.csv', 'ALGOUSDT.csv', 'ALPHAUSDT.csv', 'ANKRUSDT.csv', 'ANTUSDT.csv', 'ARDRUSDT.csv', 'ARPAUSDT.csv', 'ASRUSDT.csv', 'ATMUSDT.csv', 'ATOMUSDT.csv', 'AUDIOUSDT.csv', 'AUDUSDT.csv', 'AVAUSDT.csv', 'AVAXUSDT.csv', 'AXSUSDT.csv', 'BALUSDT.csv', 'BANDUSDT.csv', 'BATUSDT.csv', 'BCHUSDT.csv', 'BEAMUSDT.csv', 'BELUSDT.csv', 'BLZUSDT.csv', 'BNBDOWNUSDT.csv', 'BNBUPUSDT.csv', 'BNBUSDT.csv', 'BNTUSDT.csv', 'BTCDOWNUSDT.csv', 'BTCSTUSDT.csv', 'BTCUPUSDT.csv', 'BTCUSDT.csv', 'BTSUSDT.csv', 'BUSDUSDT.csv', 'CELOUSDT.csv', 'CELRUSDT.csv', 'CHRUSDT.csv', 'CHZUSDT.csv', 'CKBUSDT.csv', 'COCOSUSDT.csv', 'COMPUSDT.csv', 'COSUSDT.csv', 'COTIUSDT.csv', 'CRVUSDT.csv', 'CTKUSDT.csv', 'CTSIUSDT.csv', 'CTXCUSDT.csv', 'CVCUSDT.csv', 'DASHUSDT.csv', 'DATAUSDT.csv', 'DCRUSDT.csv', 'DENTUSDT.csv', 'DGBUSDT.csv', 'DIAUSDT.csv', 'DNTUSDT.csv', 'DOCKUSDT.csv', 'DOGEUSDT.csv', 'DOTDOWNUSDT.csv', 'DOTUPUSDT.csv', 'DOTUSDT.csv', 'DREPUSDT.csv', 'DUSKUSDT.csv', 'EGLDUSDT.csv', 'ENJUSDT.csv', 'EOSUSDT.csv', 'ETCUSDT.csv', 'ETHDOWNUSDT.csv', 'ETHUPUSDT.csv', 'ETHUSDT.csv', 'EURUSDT.csv', 'FETUSDT.csv', 'FILUSDT.csv', 'FIOUSDT.csv', 'FIROUSDT.csv', 'FLMUSDT.csv', 'FTMUSDT.csv', 'FTTUSDT.csv', 'FUNUSDT.csv', 'GBPUSDT.csv', 'GRTUSDT.csv', 'GTOUSDT.csv', 'HARDUSDT.csv', 'HBARUSDT.csv', 'HIVEUSDT.csv', 'HNTUSDT.csv', 'HOTUSDT.csv', 'ICXUSDT.csv', 'INJUSDT.csv', 'IOSTUSDT.csv', 'IOTAUSDT.csv', 'IOTXUSDT.csv', 'IRISUSDT.csv', 'JSTUSDT.csv', 'JUVUSDT.csv', 'KAVAUSDT.csv', 'KEYUSDT.csv', 'KMDUSDT.csv', 'KNCUSDT.csv', 'KSMUSDT.csv', 'LINKDOWNUSDT.csv', 'LINKUPUSDT.csv', 'LINKUSDT.csv', 'LRCUSDT.csv', 'LSKUSDT.csv', 'LTCUSDT.csv', 'LTOUSDT.csv', 'LUNAUSDT.csv', 'MANAUSDT.csv', 'MATICUSDT.csv', 'MBLUSDT.csv', 'MDTUSDT.csv', 'MFTUSDT.csv', 'MITHUSDT.csv', 'MKRUSDT.csv', 'MTLUSDT.csv', 'NBSUSDT.csv', 'NEARUSDT.csv', 'NEOUSDT.csv', 'NKNUSDT.csv', 'NMRUSDT.csv', 'NULSUSDT.csv', 'OCEANUSDT.csv', 'OGNUSDT.csv', 'OGUSDT.csv', 'OMGUSDT.csv', 'ONEUSDT.csv', 'ONGUSDT.csv', 'ONTUSDT.csv', 'ORNUSDT.csv', 'OXTUSDT.csv', 'PAXGUSDT.csv', 'PERLUSDT.csv', 'PNTUSDT.csv', 'PSGUSDT.csv', 'QTUMUSDT.csv', 'REEFUSDT.csv', 'RENUSDT.csv', 'REPUSDT.csv', 'RIFUSDT.csv', 'RLCUSDT.csv', 'ROSEUSDT.csv', 'RSRUSDT.csv', 'RUNEUSDT.csv', 'RVNUSDT.csv', 'SANDUSDT.csv', 'SCUSDT.csv', 'SKLUSDT.csv', 'SNXUSDT.csv', 'SOLUSDT.csv', 'SRMUSDT.csv', 'STMXUSDT.csv', 'STORJUSDT.csv', 'STPTUSDT.csv', 'STRAXUSDT.csv', 'STXUSDT.csv', 'SUNUSDT.csv', 'SUSHIUSDT.csv', 'SXPUSDT.csv', 'TCTUSDT.csv', 'TFUELUSDT.csv', 'THETAUSDT.csv', 'TOMOUSDT.csv', 'TRBUSDT.csv', 'TROYUSDT.csv', 'TRUUSDT.csv', 'TRXDOWNUSDT.csv', 'TRXUPUSDT.csv', 'TRXUSDT.csv', 'TUSDUSDT.csv', 'TWTUSDT.csv', 'UMAUSDT.csv', 'UNFIUSDT.csv', 'UNIUSDT.csv', 'USDCUSDT.csv', 'UTKUSDT.csv', 'VETUSDT.csv', 'VITEUSDT.csv', 'VTHOUSDT.csv', 'WANUSDT.csv', 'WAVESUSDT.csv', 'WINGUSDT.csv', 'WINUSDT.csv', 'WNXMUSDT.csv', 'WRXUSDT.csv', 'WTCUSDT.csv', 'XEMUSDT.csv', 'XLMUSDT.csv', 'XMRUSDT.csv', 'XRPDOWNUSDT.csv', 'XRPUPUSDT.csv', 'XRPUSDT.csv', 'XTZUSDT.csv', 'XVSUSDT.csv', 'YFIIUSDT.csv', 'YFIUSDT.csv', 'ZECUSDT.csv', 'ZENUSDT.csv', 'ZILUSDT.csv', 'ZRXUSDT.csv']\n"
     ]
    }
   ],
   "source": [
    "import pandas as pd\n",
    "from glob import glob\n",
    "import os\n",
    "#載入OS模組\n",
    "files = glob('C:/Users/User/Desktop/data/*.csv')\n",
    "# print(files)\n",
    "\n",
    "path = 'C:/Users/User/Desktop/data/'\n",
    "\n",
    "all_file_name = os.listdir(path)\n",
    "#↑獲取當前資料夾名稱然後存成dir_path變數\n",
    "print(all_file_name)\n",
    "\n",
    "for i in all_file_name:\n",
    "    df = pd.read_csv(path + i)\n",
    "    df['name'] = i.split('.')[0]\n",
    "    df.to_csv(path + i, index=False)\n",
    "    \n",
    "    \n"
   ]
  },
  {
   "cell_type": "code",
   "execution_count": null,
   "id": "188db0ce",
   "metadata": {},
   "outputs": [],
   "source": [
    "# csv_read_file = pd.read_csv(\"C:/Users/User/Desktop/monotest/data/聚類结果.csv\", encoding=\"utf-8\")\n",
    "\n",
    "# csv_read_file = csv_read_file.drop(['name'],axis=1)\n",
    "\n",
    "# csv_read_data = csv_read_file.values.tolist()\n",
    "\n",
    "# print(csv_read_data[4][1])\n",
    "\n",
    "# # csv_read_data\n",
    "\n",
    "# # for row in range(len(csv_read_data)):\n",
    "# #     print(csv_read_data[row][0], csv_read_data[row][1])"
   ]
  },
  {
   "cell_type": "code",
   "execution_count": null,
   "id": "f4dc427e",
   "metadata": {},
   "outputs": [],
   "source": [
    "# import os\n",
    "# #↑載入OS模組\n",
    "\n",
    "\n",
    "\n",
    "# dir_path = os.path.dirname('C:/Users/User/Desktop/data/*')\n",
    "# #↑獲取當前資料夾名稱然後存成dir_path變數\n",
    "# all_file_name = os.listdir(dir_path)\n",
    "\n",
    "# for i in all_file_name:\n",
    "#     i.split('.')[0]\n",
    "    \n",
    "# y = [i.split('.')[0] for i in all_file_name]    \n",
    "# print(y)\n",
    "\n",
    "# #↑讀取資料夾內所有檔案名稱然後放進all_file_name這個list裡\n",
    "# #all_file_name = all_file_name.split('.')\n",
    "\n",
    "# #print(all_file_name)"
   ]
  },
  {
   "cell_type": "code",
   "execution_count": 2,
   "id": "419c79b3",
   "metadata": {},
   "outputs": [
    {
     "name": "stdout",
     "output_type": "stream",
     "text": [
      "            open_time    open    high     low   close       volume       name\n",
      "0       1609459200000  1.3623  1.3974  1.0863  1.1550  20279992.26  1INCHUSDT\n",
      "1       1609545600000  1.1521  1.1607  1.0000  1.0250  11922746.16  1INCHUSDT\n",
      "2       1609632000000  1.0259  1.1568  0.9456  1.1080  20147704.01  1INCHUSDT\n",
      "3       1609718400000  1.1080  1.2400  0.9666  1.0317  18714450.36  1INCHUSDT\n",
      "4       1609804800000  1.0317  1.3800  0.9800  1.2501  21614286.19  1INCHUSDT\n",
      "...               ...     ...     ...     ...     ...          ...        ...\n",
      "130084  1664150400000  0.2683  0.2715  0.2593  0.2682   2699807.00    ZRXUSDT\n",
      "130085  1664236800000  0.2683  0.2811  0.2625  0.2660   4757826.00    ZRXUSDT\n",
      "130086  1664323200000  0.2660  0.2746  0.2575  0.2671   6995950.00    ZRXUSDT\n",
      "130087  1664409600000  0.2672  0.2710  0.2614  0.2698   3470136.00    ZRXUSDT\n",
      "130088  1664496000000  0.2700  0.2718  0.2642  0.2673   2844533.00    ZRXUSDT\n",
      "\n",
      "[130089 rows x 7 columns]\n"
     ]
    }
   ],
   "source": [
    "df = pd.concat(\n",
    "    (pd.read_csv(file, usecols=['name','open_time','open','close','volume','high','low']) for file in files), ignore_index=True)\n",
    " \n",
    "print(df)\n"
   ]
  },
  {
   "cell_type": "code",
   "execution_count": 3,
   "id": "df964944",
   "metadata": {},
   "outputs": [
    {
     "name": "stdout",
     "output_type": "stream",
     "text": [
      "             name      open_time    open    high     low   close       volume\n",
      "0       1INCHUSDT  1609459200000  1.3623  1.3974  1.0863  1.1550  20279992.26\n",
      "1       1INCHUSDT  1609545600000  1.1521  1.1607  1.0000  1.0250  11922746.16\n",
      "2       1INCHUSDT  1609632000000  1.0259  1.1568  0.9456  1.1080  20147704.01\n",
      "3       1INCHUSDT  1609718400000  1.1080  1.2400  0.9666  1.0317  18714450.36\n",
      "4       1INCHUSDT  1609804800000  1.0317  1.3800  0.9800  1.2501  21614286.19\n",
      "...           ...            ...     ...     ...     ...     ...          ...\n",
      "130084    ZRXUSDT  1664150400000  0.2683  0.2715  0.2593  0.2682   2699807.00\n",
      "130085    ZRXUSDT  1664236800000  0.2683  0.2811  0.2625  0.2660   4757826.00\n",
      "130086    ZRXUSDT  1664323200000  0.2660  0.2746  0.2575  0.2671   6995950.00\n",
      "130087    ZRXUSDT  1664409600000  0.2672  0.2710  0.2614  0.2698   3470136.00\n",
      "130088    ZRXUSDT  1664496000000  0.2700  0.2718  0.2642  0.2673   2844533.00\n",
      "\n",
      "[130089 rows x 7 columns]\n"
     ]
    }
   ],
   "source": [
    "cols = df.columns.tolist()                     # 把df的列名称，取出来放到一个list里边。即返回['a', 'b', 'c', 'd', 'e', 'mean']\n",
    "cols.insert(0, cols.pop(cols.index('name')))   # pop()把mean从cols列表里挖出来，通过位置参数“0”，然后放到第一列。\n",
    "df_final = df[cols]                            # df按照cols序列，把mean字段放到了第一列\n",
    "\n",
    "print(df_final)\n",
    "path = 'C:/Users/User/Desktop/data/'\n",
    "df_final.to_csv(path +'1newalldata.csv', index=False)"
   ]
  },
  {
   "cell_type": "code",
   "execution_count": null,
   "id": "e3e27961",
   "metadata": {},
   "outputs": [],
   "source": [
    "import numpy as np\n",
    "import csv\n",
    "import pandas as pd\n",
    "import xgboost as xgb\n",
    "from sklearn.model_selection import train_test_split\n",
    "from sklearn.metrics import mean_squared_error, r2_score\n",
    "\n",
    "df = pd.read_csv('C:/Users/User/Desktop/data/1newalldata.csv',usecols=['name','open_time','open','close','low','high'],on_bad_lines='skip')\n",
    "df.tail()"
   ]
  },
  {
   "cell_type": "code",
   "execution_count": null,
   "id": "fa4ac688",
   "metadata": {},
   "outputs": [],
   "source": [
    "df=df.groupby('name').tail(30)\n"
   ]
  },
  {
   "cell_type": "code",
   "execution_count": null,
   "id": "69c81e65",
   "metadata": {},
   "outputs": [],
   "source": [
    "df['change'] = df.groupby('name')['close'].shift(-1)\n",
    "df = df.dropna()\n",
    "\n",
    "df['change'] = df['change']-df['open']"
   ]
  },
  {
   "cell_type": "code",
   "execution_count": null,
   "id": "87160ba6",
   "metadata": {},
   "outputs": [],
   "source": [
    "std = df.groupby('name')[\"change\"].std().rename(\"std\").reset_index()\n",
    "\n",
    "\n",
    "\n",
    "high = df.groupby('name')[\"high\"].max().rename(\"high\").reset_index()\n",
    "\n",
    "\n",
    "low = df.groupby('name')[\"low\"].min().rename(\"low\").reset_index()"
   ]
  },
  {
   "cell_type": "code",
   "execution_count": null,
   "id": "883e89e2",
   "metadata": {},
   "outputs": [],
   "source": [
    "df = pd.merge(std,high, on='name')"
   ]
  },
  {
   "cell_type": "code",
   "execution_count": null,
   "id": "a9e911a5",
   "metadata": {},
   "outputs": [],
   "source": [
    "df = pd.merge(df,low, on='name')\n",
    "df"
   ]
  },
  {
   "cell_type": "code",
   "execution_count": null,
   "id": "84d7f838",
   "metadata": {},
   "outputs": [],
   "source": [
    "print (\"Shape Of The Before Ouliers: \",df.shape)\n",
    "n=1.5\n",
    "#IQR = Q3-Q1\n",
    "IQR = np.percentile(df['std'],75) - np.percentile(df['std'],25)\n",
    "#outlier = Q3 + n*IQR \n",
    "df=df[df['std'] < np.percentile(df['std'],75)+n*IQR]\n",
    "#outlier = Q1 - n*IQR \n",
    "df=df[df['std'] > np.percentile(df['std'],25)-n*IQR]\n",
    "print (\"Shape Of The After Ouliers: \",df.shape)"
   ]
  },
  {
   "cell_type": "code",
   "execution_count": null,
   "id": "6addee8e",
   "metadata": {},
   "outputs": [],
   "source": [
    "df"
   ]
  },
  {
   "cell_type": "code",
   "execution_count": null,
   "id": "a454558e",
   "metadata": {},
   "outputs": [],
   "source": [
    "def MinMaxNormalization(test_data):\n",
    "    return test_data.apply(lambda x:(x-np.min(x))/(np.max(x)-np.min(x)))\n",
    "df[['std','high','low']] = MinMaxNormalization(df[['std','high','low']])"
   ]
  },
  {
   "cell_type": "code",
   "execution_count": null,
   "id": "492cfd2c",
   "metadata": {},
   "outputs": [],
   "source": [
    "path = 'C:/Users/User/Desktop/data/'"
   ]
  },
  {
   "cell_type": "code",
   "execution_count": null,
   "id": "c858ed49",
   "metadata": {},
   "outputs": [],
   "source": [
    "from sklearn.cluster import KMeans\n",
    "# 设置为三个聚类中心\n",
    "Kmeans = KMeans(n_clusters=2)\n",
    "# 训练模型\n",
    "Kmeans.fit(df[['std','high','low']])\n",
    "Kmeans.cluster_centers_ # 聚类中心\n",
    "Kmeans.labels_ # 聚类结果\n",
    "out_file = pd.DataFrame(columns=['name','std','high','low'])\n",
    "out_file[['name','std','high','low']] = df\n",
    "out_file['聚類结果'] = Kmeans.labels_\n",
    "out_file.to_csv(os.path.join(path,'聚類结果.csv'),index=False,encoding=\"utf_8_sig\")"
   ]
  },
  {
   "cell_type": "code",
   "execution_count": null,
   "id": "bce20412",
   "metadata": {},
   "outputs": [],
   "source": [
    "import matplotlib.pyplot as plt\n",
    "label_pred = Kmeans.labels_ #获取聚类标签\n",
    "centroids = Kmeans.cluster_centers_ #获取聚类中心\n",
    "inertia = Kmeans.inertia_ # 获取聚类准则的总和\n",
    "mark = ['or', '^b', '+g', 'ok', '^r', '+r', 'sr', 'dr', '<r', 'pr']\n",
    "#这里'or'代表中的'o'代表画圈，'r'代表颜色为红色，后面的依次类推\n",
    "j = 0 \n",
    "for i in label_pred:\n",
    "    plt.plot([df[j:j+1][\"std\"]], [df[j:j+1]['high']], mark[i], markersize = 5)\n",
    "    j +=1\n",
    "plt.title('std-high')\n",
    "plt.xlabel('std')\n",
    "plt.ylabel('high')\n",
    "plt.savefig(path+'1std-high.png',dpi=100,bbox_inches='tight')\n",
    "plt.cla()\n",
    "j = 0 \n",
    "# plt.show()\n",
    "for i in label_pred:\n",
    "    plt.plot([df[j:j+1][\"std\"]], [df[j:j+1]['low']], mark[i], markersize = 5)\n",
    "    j +=1\n",
    "plt.title('std-low')\n",
    "plt.xlabel('std')\n",
    "plt.ylabel('low)')\n",
    "plt.savefig(path+'1std-low.png',dpi=100,bbox_inches='tight')\n",
    "plt.cla()\n",
    "j = 0 \n",
    "for i in label_pred:\n",
    "    plt.plot([df[j:j+1][\"high\"]], [df[j:j+1]['low']], mark[i], markersize = 5)\n",
    "    j +=1\n",
    "plt.title('high-low')\n",
    "plt.xlabel('high')\n",
    "plt.ylabel('low')\n",
    "plt.savefig(path+'1high-low.png',dpi=100,bbox_inches='tight')\n",
    "plt.cla()\n",
    "plt.figure(\"3D Scatter\", facecolor=\"lightgray\")\n",
    "ax3d = plt.subplot(projection=\"3d\")  # 创建三维坐标\n",
    "\n",
    "plt.title('3D Scatter', fontsize=20)\n",
    "ax3d.set_xlabel('std', fontsize=14)\n",
    "ax3d.set_ylabel('high', fontsize=14)\n",
    "ax3d.set_zlabel('low', fontsize=14)\n",
    "plt.tick_params(labelsize=10)\n",
    "ax3d.scatter(df[\"std\"], df[\"high\"], df['low'], s=20, c = label_pred,cmap=\"jet\", marker=\"o\")\n",
    "plt.show()\n",
    "\n",
    "plt.scatter(df[\"std\"],df[\"high\"],c=label_pred, s=50, cmap='brg')\n",
    "ax3d.figure.savefig(path+'3d.png')"
   ]
  },
  {
   "cell_type": "code",
   "execution_count": null,
   "id": "d20c5a88",
   "metadata": {},
   "outputs": [],
   "source": [
    "model.save(path+'kmeans_model.h5')"
   ]
  },
  {
   "cell_type": "code",
   "execution_count": null,
   "id": "9505acad",
   "metadata": {},
   "outputs": [],
   "source": [
    "from sklearn import preprocessing\n",
    "X =df[['std','Allvolume','openmean','closemean']]\n",
    "X = np.array(X)\n",
    "zscore = preprocessing.StandardScaler()\n",
    "X = zscore.fit_transform(X)"
   ]
  },
  {
   "cell_type": "code",
   "execution_count": null,
   "id": "813a67a2",
   "metadata": {},
   "outputs": [],
   "source": [
    "#print(df.loc[:,'std'].max())"
   ]
  },
  {
   "cell_type": "code",
   "execution_count": null,
   "id": "101228b1",
   "metadata": {},
   "outputs": [],
   "source": [
    "#df = df.drop(df[df['std']==2266.6784666410404].index)\n",
    "#df"
   ]
  },
  {
   "cell_type": "code",
   "execution_count": null,
   "id": "133b4836",
   "metadata": {},
   "outputs": [],
   "source": [
    "#print(df.loc[:,'std'].max())"
   ]
  },
  {
   "cell_type": "code",
   "execution_count": null,
   "id": "b9058db2",
   "metadata": {},
   "outputs": [],
   "source": [
    "from sklearn.cluster import KMeans\n",
    "from sklearn.metrics import accuracy_score\n",
    "%matplotlib inline\n",
    "import matplotlib.pyplot as plt\n",
    "import numpy as np\n",
    "\n",
    "from sklearn.datasets import make_blobs\n",
    "\n",
    "\n",
    "#plt.scatter(X['std'],s=50)"
   ]
  },
  {
   "cell_type": "code",
   "execution_count": null,
   "id": "8d2f76ca",
   "metadata": {},
   "outputs": [],
   "source": [
    "from sklearn.cluster import KMeans\n",
    "from sklearn.metrics import accuracy_score\n",
    "\n",
    "kmeans = KMeans(n_clusters=2)\n",
    "kmeans = kmeans.fit(X)\n",
    "y_kmeans = kmeans.predict(X)\n",
    "\n",
    "centroids = kmeans.cluster_centers_\n",
    "\n",
    "print('centroids: {}'.format(centroids))\n",
    "\n",
    "print('------------')\n",
    "print('prediction on each data: {}'.format(y_kmeans))"
   ]
  },
  {
   "cell_type": "code",
   "execution_count": null,
   "id": "a21961c5",
   "metadata": {},
   "outputs": [],
   "source": [
    "%matplotlib inline\n",
    "import matplotlib.pyplot as plt\n",
    "import numpy as np\n",
    "\n",
    "\n",
    "\n",
    "#X = make_blobs(n_samples=203,centers=2,\n",
    "#                cluster_std=0.60, random_state=0)\n",
    "\n",
    "#y = np.array(X[0],dtype=float)\n",
    "#print(X[1])\n",
    "\n",
    "#print(X[1])\n",
    "\n",
    "\n",
    "plt.scatter(X[:,2],X[:,3],c=y_kmeans, s=50, cmap='brg')"
   ]
  },
  {
   "cell_type": "code",
   "execution_count": null,
   "id": "942aa757",
   "metadata": {},
   "outputs": [],
   "source": []
  }
 ],
 "metadata": {
  "kernelspec": {
   "display_name": "Python 3 (ipykernel)",
   "language": "python",
   "name": "python3"
  },
  "language_info": {
   "codemirror_mode": {
    "name": "ipython",
    "version": 3
   },
   "file_extension": ".py",
   "mimetype": "text/x-python",
   "name": "python",
   "nbconvert_exporter": "python",
   "pygments_lexer": "ipython3",
   "version": "3.8.13"
  }
 },
 "nbformat": 4,
 "nbformat_minor": 5
}
